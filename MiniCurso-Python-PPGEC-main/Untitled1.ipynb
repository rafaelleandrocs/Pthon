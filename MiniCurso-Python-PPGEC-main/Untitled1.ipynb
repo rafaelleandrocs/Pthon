{
 "cells": [
  {
   "cell_type": "markdown",
   "id": "d5e4d2fb",
   "metadata": {},
   "source": [
    "Exemplo Curso Python - Resolução da Treliça"
   ]
  },
  {
   "cell_type": "markdown",
   "id": "b960f74e",
   "metadata": {},
   "source": [
    "Importação das bibliotecas"
   ]
  },
  {
   "cell_type": "code",
   "execution_count": 9,
   "id": "f21c5d6e",
   "metadata": {},
   "outputs": [
    {
     "name": "stdout",
     "output_type": "stream",
     "text": [
      "<class 'module'>\n",
      "<class 'module'>\n",
      "<class 'module'>\n"
     ]
    }
   ],
   "source": [
    "import pandas as pd                  #importação de pandas\n",
    "import numpy as np                   #importação de numpy\n",
    "import matplotlib.pyplot as plt      #importação de plotagem\n",
    "print(type(pd))\n",
    "print(type(np))\n",
    "print(type(plt))"
   ]
  },
  {
   "cell_type": "markdown",
   "id": "71dc89b0",
   "metadata": {},
   "source": [
    "Entrada de dados"
   ]
  },
  {
   "cell_type": "code",
   "execution_count": null,
   "id": "9c5a5b4f",
   "metadata": {},
   "outputs": [],
   "source": []
  }
 ],
 "metadata": {
  "kernelspec": {
   "display_name": "Python 3 (ipykernel)",
   "language": "python",
   "name": "python3"
  },
  "language_info": {
   "codemirror_mode": {
    "name": "ipython",
    "version": 3
   },
   "file_extension": ".py",
   "mimetype": "text/x-python",
   "name": "python",
   "nbconvert_exporter": "python",
   "pygments_lexer": "ipython3",
   "version": "3.9.7"
  }
 },
 "nbformat": 4,
 "nbformat_minor": 5
}
